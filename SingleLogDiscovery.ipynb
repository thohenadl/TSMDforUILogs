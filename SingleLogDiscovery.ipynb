{
 "cells": [
  {
   "cell_type": "markdown",
   "metadata": {},
   "source": [
    "# Time Series Motif Discovery for User Interaction Logs\n",
    "\n",
    "### Description\n",
    "\n",
    "Time series data mining plays a crucial role in uncovering routines within user interaction logs. By analyzing sequences of user actions over time, data mining techniques can identify recurring patterns and behaviors. This allows us to understand how users typically navigate through a system, what actions they perform in sequence, and at what intervals. By uncovering these routines, we can gain valuable insights into user habits and preferences. This knowledge can then be used to optimize user interfaces, personalize experiences, and ultimately improve user satisfaction. For example, time series data mining might reveal a common sequence of actions users take to complete a specific task. This information could be used to streamline the process by suggesting the next step or automating repetitive actions.\n",
    "\n",
    "### Functionallity of this Notebook\n",
    "\n",
    "This notebook has three sections seperated into data preprocessing, Time Series Mining, and visualisation through Process Discovery.\n",
    "As with any Jupyter Notebook you can run each cell. For the method to properly work you have to setup the first cell after the library import accordingly. This cell contains the settings of the discovery approach. The attributes to be set are described in more detail before the cell.\n",
    "\n",
    "1. Section Preprocessing: In this section the necessery libraries are imported and the UI log is processed.\n",
    "2. Section Time Series Mining: The algorithm discovers the motifs based on the setup parameters.\n",
    "    - First, the UI log is encoded using our continuous hot encoding methodology.\n",
    "    - Second, if you set the parameter for window size calculation the window size will be calculated. Otherwise the specified window size is used.\n",
    "    - Third, the motif discovery is performed for the number of motifs you specified in the settings. \n",
    "3. The discovered motifs in the UI log are processed in a process discovery algorithm. The resulting directly follows graph is presented.\n",
    "\n",
    "#### PreProcessing"
   ]
  },
  {
   "cell_type": "code",
   "execution_count": 1,
   "metadata": {},
   "outputs": [],
   "source": [
    "import pandas as pd\n",
    "import numpy as np\n",
    "import stumpy\n",
    "\n",
    "import matplotlib.pyplot as plt\n",
    "\n",
    "import util.util\n",
    "\n",
    "import pm4py"
   ]
  },
  {
   "cell_type": "markdown",
   "metadata": {},
   "source": [
    "#### Settings\n",
    "\n",
    "UiLogPath >>> String: Folder path in which the UI log is stored.\n",
    "\n",
    "UiLogFilename >>> String: Name of the UiLog.\n",
    "\n",
    "UiLogContextColumns >>> List: List of all names that should be considered as discovery dimensions. E.g., in Agostinelli et al.s logs we have considered the columns \"case:concept:name\", \"application\", and \"concept:name\". In the Activity Window Tracking by Beerepoot et al. we considered the columns \"Title\" and \"App\".\n",
    "\n",
    "TimeStampColumn >>> Str: Name of the column containing the time stamp in the UI log.\n",
    "\n",
    "WindowSizeCalculation >>> True or False: If True the window size will be calculated using the calculation method described in our paper based on the method in \n",
    "\n",
    "BreakTime >>> Int: Integer representing the number of seconds that are considered as a significant user break, e.g., lunch break or break between two UI log recording sessions. Set this parameter to exclude these breaks from the window size calculation. We recommend 300 seconds, i.e., 5 minutes, as an initial start value for breaks.\n",
    "\n",
    "ManualWindowSize >>> int: Set an integer value if the previous parameter is set to False. Otherwise a default value of 1% of the log length is choosen.\n",
    "\n",
    "NumberOfMotifsToDiscover >>> int: Integer value ranging from 2 to infinity (possibly) as input for the discovery of multiple occurances of the motif. The result will contain the number of motifs with the closest matching distance measure independent of actual motif similiarity.\n",
    "\n",
    "The settings are initially set for the UI log from our running example."
   ]
  },
  {
   "cell_type": "code",
   "execution_count": 2,
   "metadata": {},
   "outputs": [],
   "source": [
    "UiLogPath = \"logs/smartRPA/percentageComparison/\"\n",
    "UiLogFilename = \"LenLog_1_1_10_10_10_1000.csv\"\n",
    "encoding_method = \"utf-8\"\n",
    "seperator = \",\"\n",
    "\n",
    "UiLogPath = \"logs/Banking/\"\n",
    "UiLogFilename = \"TSMD Log Sparkass_combined.csv\"\n",
    "encoding_method = \"utf-8\"\n",
    "seperator = \",\"\n",
    "\n",
    "UiLogPath = \"logs/AWT/\"\n",
    "UiLogFilename = \"AWT_data_Iris_March_2023_labelled.csv\"\n",
    "encoding_method  = \"latin-1\"\n",
    "seperator = \";\"\n",
    "\n",
    "ContextColumns = [\"App\",\"Title\"]\n",
    "timeStampColumn = \"time:timestamp\"\n",
    "WindowSizeCalculation = False\n",
    "BreakTime = 300\n",
    "ManualWindowSize = 30\n",
    "NumberOfMotifsToDiscover = 6"
   ]
  },
  {
   "cell_type": "code",
   "execution_count": 3,
   "metadata": {},
   "outputs": [
    {
     "name": "stdout",
     "output_type": "stream",
     "text": [
      "The window size was manually set and is 30.\n",
      "The motif discovery is complete. The following indexes are the starting points of the discovered motifs: [ 4802  4812 13319 13329 13339 13349]\n"
     ]
    },
    {
     "ename": "Exception",
     "evalue": "concept:name column (activity) is not in the dataframe!",
     "output_type": "error",
     "traceback": [
      "\u001b[1;31m---------------------------------------------------------------------------\u001b[0m",
      "\u001b[1;31mException\u001b[0m                                 Traceback (most recent call last)",
      "Cell \u001b[1;32mIn[3], line 27\u001b[0m\n\u001b[0;32m     24\u001b[0m caseuiLog \u001b[38;5;241m=\u001b[39m util\u001b[38;5;241m.\u001b[39mutil\u001b[38;5;241m.\u001b[39mreduceLogToDiscovered(file,top_motifs[\u001b[38;5;241m1\u001b[39m][\u001b[38;5;241m0\u001b[39m],size)\n\u001b[0;32m     26\u001b[0m \u001b[38;5;66;03m# ---- Process Discovery ----\u001b[39;00m\n\u001b[1;32m---> 27\u001b[0m pm4pyDf \u001b[38;5;241m=\u001b[39m \u001b[43mpm4py\u001b[49m\u001b[38;5;241;43m.\u001b[39;49m\u001b[43mformat_dataframe\u001b[49m\u001b[43m(\u001b[49m\u001b[43mcaseuiLog\u001b[49m\u001b[43m)\u001b[49m\n\u001b[0;32m     28\u001b[0m uiLogg, start_activities, end_activities \u001b[38;5;241m=\u001b[39m pm4py\u001b[38;5;241m.\u001b[39mdiscover_dfg(pm4pyDf)\n\u001b[0;32m     29\u001b[0m pm4py\u001b[38;5;241m.\u001b[39mview_dfg(uiLogg, start_activities, end_activities)\n",
      "File \u001b[1;32mc:\\Users\\tomho\\anaconda3\\envs\\timeSeriesData\\lib\\site-packages\\pm4py\\utils.py:71\u001b[0m, in \u001b[0;36mformat_dataframe\u001b[1;34m(df, case_id, activity_key, timestamp_key, start_timestamp_key, timest_format)\u001b[0m\n\u001b[0;32m     69\u001b[0m     \u001b[38;5;28;01mraise\u001b[39;00m \u001b[38;5;167;01mException\u001b[39;00m(case_id \u001b[38;5;241m+\u001b[39m \u001b[38;5;124m\"\u001b[39m\u001b[38;5;124m column (case ID) is not in the dataframe!\u001b[39m\u001b[38;5;124m\"\u001b[39m)\n\u001b[0;32m     70\u001b[0m \u001b[38;5;28;01mif\u001b[39;00m activity_key \u001b[38;5;129;01mnot\u001b[39;00m \u001b[38;5;129;01min\u001b[39;00m df\u001b[38;5;241m.\u001b[39mcolumns:\n\u001b[1;32m---> 71\u001b[0m     \u001b[38;5;28;01mraise\u001b[39;00m \u001b[38;5;167;01mException\u001b[39;00m(activity_key \u001b[38;5;241m+\u001b[39m \u001b[38;5;124m\"\u001b[39m\u001b[38;5;124m column (activity) is not in the dataframe!\u001b[39m\u001b[38;5;124m\"\u001b[39m)\n\u001b[0;32m     72\u001b[0m \u001b[38;5;28;01mif\u001b[39;00m timestamp_key \u001b[38;5;129;01mnot\u001b[39;00m \u001b[38;5;129;01min\u001b[39;00m df\u001b[38;5;241m.\u001b[39mcolumns:\n\u001b[0;32m     73\u001b[0m     \u001b[38;5;28;01mraise\u001b[39;00m \u001b[38;5;167;01mException\u001b[39;00m(timestamp_key \u001b[38;5;241m+\u001b[39m \u001b[38;5;124m\"\u001b[39m\u001b[38;5;124m column (timestamp) is not in the dataframe!\u001b[39m\u001b[38;5;124m\"\u001b[39m)\n",
      "\u001b[1;31mException\u001b[0m: concept:name column (activity) is not in the dataframe!"
     ]
    }
   ],
   "source": [
    "# ---- Do not change from here ----\n",
    "\n",
    "# ---- PreProcessing ----\n",
    "file = pd.read_csv(UiLogPath + UiLogFilename, encoding=encoding_method, sep=seperator)\n",
    "uiLog = util.util.encoding_UiLog(file,orderedColumnsList=ContextColumns,hierarchy_based=True,cooccuranceBased=False)\n",
    "if WindowSizeCalculation:\n",
    "    percentil = 100\n",
    "    quartile, quartile_indices, average_elements = util.util.windowSizeByBreak(file, timeStampColumn, BreakTime, percentil)\n",
    "    if average_elements is not None:\n",
    "        size = average_elements\n",
    "        print(f\"Average number of elements between breaks occurrences: {average_elements:.2f}\")\n",
    "    else:\n",
    "        size = len(file)*0.01\n",
    "        print(f\"Not enough data to calculate the window size. Size will be one percent of log length: {len(file)*0.01}\")\n",
    "    \n",
    "else:\n",
    "    size = ManualWindowSize\n",
    "    print(f\"The window size was manually set and is {size}.\")\n",
    "\n",
    "# ---- Time Series Mining ----\n",
    "tm_matrix, event_series = util.util.discover_motifs(uiLog, size)\n",
    "top_motifs = stumpy.motifs(T=event_series, P=tm_matrix[:,0], min_neighbors=1, max_matches=NumberOfMotifsToDiscover)\n",
    "print(f\"The motif discovery is complete. The following indexes are the starting points of the discovered motifs: {np.sort(top_motifs[1][0])}\")\n",
    "caseuiLog = util.util.reduceLogToDiscovered(file,top_motifs[1][0],size)\n",
    "\n",
    "# ---- Process Discovery ----\n",
    "pm4pyDf = pm4py.format_dataframe(caseuiLog)\n",
    "uiLogg, start_activities, end_activities = pm4py.discover_dfg(pm4pyDf)\n",
    "pm4py.view_dfg(uiLogg, start_activities, end_activities)\n",
    "\n",
    "\n",
    "# ---- Motif Visualisation ----\n",
    "starting_row = 0\n",
    "ending_row = len(uiLog)-1\n",
    "ids = uiLog.loc[starting_row:ending_row,'tuple:id'].tolist()\n",
    "rows = [i for i in range(len(uiLog.loc[starting_row:ending_row,'tuple:id']))]\n",
    "\n",
    "#Plot Event data\n",
    "fig2, axs2 = plt.subplots(3, sharex=True, gridspec_kw={'hspace': 0})\n",
    "plt.suptitle('Motif (Pattern) Discovery', fontsize='10')\n",
    "\n",
    "axs2[0].scatter(rows, ids, alpha=0.8)\n",
    "axs2[0].set_ylabel('Events', fontsize='10')\n",
    "# Plot Timeseries data\n",
    "axs2[1].plot(event_series)\n",
    "axs2[1].set_ylabel('Timeseries', fontsize='10')\n",
    "# Plot Matrix profiles\n",
    "axs2[2].set_xlabel('Time', fontsize ='10')\n",
    "axs2[2].set_ylabel('Matrix Profile', fontsize='10')\n",
    "axs2[2].set_ylim(top=tm_matrix[:, 0].max()*1.1) #displaying the max value with some uplift for space in Graph\n",
    "axs2[2].plot(tm_matrix[:, 0])\n",
    "# Adding Dashed lines\n",
    "for discovered in top_motifs[1][0]:\n",
    "    axs2[0].axvline(x=discovered, linestyle=\"dashed\",color='C1')\n",
    "    axs2[1].axvline(x=discovered, linestyle=\"dashed\",color='C1')\n",
    "    axs2[2].axvline(x=discovered, linestyle=\"dashed\",color='C1')\n",
    "\n",
    "# Display Pattern overlay\n",
    "fig, ax = plt.subplots(figsize=(6.5, 2))\n",
    "plt.title('Motif Overlay', fontsize='10')\n",
    "ax.set_xlabel(\"Events\", fontsize='10')\n",
    "ax.set_ylabel(\"Timeseries\", fontsize='10')\n",
    "# Plot motif and nearest neighbor window\n",
    "for i, val in enumerate(top_motifs[1][0]):\n",
    "    colorPlot = 'C' + str(i)\n",
    "    ax.plot(event_series[val:val+size], color=colorPlot, label=f\"Motif {i}\")\n",
    "    \n",
    "plt.legend(loc=\"best\",fontsize=10)\n",
    "plt.show()"
   ]
  }
 ],
 "metadata": {
  "kernelspec": {
   "display_name": "timeSeriesData",
   "language": "python",
   "name": "python3"
  },
  "language_info": {
   "codemirror_mode": {
    "name": "ipython",
    "version": 3
   },
   "file_extension": ".py",
   "mimetype": "text/x-python",
   "name": "python",
   "nbconvert_exporter": "python",
   "pygments_lexer": "ipython3",
   "version": "3.10.13"
  }
 },
 "nbformat": 4,
 "nbformat_minor": 2
}
