{
 "cells": [
  {
   "cell_type": "code",
   "execution_count": 1,
   "metadata": {},
   "outputs": [
    {
     "name": "stderr",
     "output_type": "stream",
     "text": [
      "C:\\Users\\tomho\\AppData\\Local\\Temp\\ipykernel_2552\\488314928.py:32: DtypeWarning: Columns (23,26) have mixed types. Specify dtype option on import or set low_memory=False.\n",
      "  df = pd.read_csv(file_path)\n",
      "C:\\Users\\tomho\\AppData\\Local\\Temp\\ipykernel_2552\\488314928.py:32: DtypeWarning: Columns (23,26) have mixed types. Specify dtype option on import or set low_memory=False.\n",
      "  df = pd.read_csv(file_path)\n",
      "C:\\Users\\tomho\\AppData\\Local\\Temp\\ipykernel_2552\\488314928.py:32: DtypeWarning: Columns (23,26) have mixed types. Specify dtype option on import or set low_memory=False.\n",
      "  df = pd.read_csv(file_path)\n"
     ]
    }
   ],
   "source": [
    "import os\n",
    "import pandas as pd\n",
    "import csv\n",
    "\n",
    "# Diccionario para sustituir nombres de columnas\n",
    "column_mapping = {\n",
    "    \"case:concept:name\": \"caseID\",\n",
    "    \"category\": \"target.class\",\n",
    "    \"application\": \"targetApp\",\n",
    "    \"time:timestamp\": \"timeStamp\",\n",
    "    \"org:resource\": \"userID\",\n",
    "    \"concept:name\": \"eventType\",\n",
    "    \"browser_url\": \"url\",\n",
    "    \"clipboard_content\": \"content\",\n",
    "    \"workbook\": \"target.workbookName\",\n",
    "    \"tag_name\": \"target.tagName\",\n",
    "    \"tag_type\": \"target.type\",\n",
    "    \"tag_value\": \"target.value\",\n",
    "    \"tag_innerText\": \"target.innerText\",\n",
    "    \"tag_checked\": \"target.checked\",\n",
    "    \"tag_href\": \"target.href\",\n",
    "    \"tag_option\": \"target.option\",\n",
    "    \"tag_title\": \"target.title\",\n",
    "    \"id\": \"target.id\",\n",
    "    \"case:concept:name\": \"target.name\",\n",
    "    \"current_worksheet\": \"target.sheetName\",\n",
    "    \"tag_html\": \"target.innerHTML\"\n",
    "}\n",
    "\n",
    "def process_csv(file_path, results_path):\n",
    "    # Leer el archivo CSV\n",
    "    df = pd.read_csv(file_path)\n",
    "    \n",
    "    # Renombrar columnas según el diccionario\n",
    "    df.rename(columns=column_mapping, inplace=True)\n",
    "    \n",
    "    # Convertir todos los valores a strings con quotes\n",
    "    # df = df.map(lambda x: f'{x}' if pd.notnull(x) else '')\n",
    "    \n",
    "    # Guardar el archivo CSV procesado\n",
    "    output_file = f\"processed_{os.path.basename(file_path)}\"\n",
    "    output_file = os.path.join(results_path, output_file)\n",
    "    df.to_csv(output_file, index=False, quoting=csv.QUOTE_ALL, escapechar='\\\\', na_rep='')\n",
    "    \n",
    "    # with open(file_path, 'r', newline='') as infile, open(new_file_path, 'w', newline='') as outfile:\n",
    "    #     reader = csv.reader(infile)\n",
    "    #     writer = csv.writer(outfile, quoting=csv.QUOTE_ALL)\n",
    "    #     for row in reader:\n",
    "    #         writer.writerow(row)\n",
    "\n",
    "def process_directory(directory):\n",
    "    # Comprobar si en \"directory\" existe el directorio \"processed\", sino crearlo\n",
    "    processed_directory = os.path.join(directory, \"processed\")\n",
    "    if not os.path.exists(processed_directory):\n",
    "        os.makedirs(processed_directory)\n",
    "    \n",
    "    for file_name in os.listdir(directory):\n",
    "        if file_name.endswith('.csv'):\n",
    "            file_path = os.path.join(directory, file_name)\n",
    "            try:\n",
    "                process_csv(file_path, processed_directory)\n",
    "            except:\n",
    "                print(f\"{file_name} could not be transformed.\")\n",
    "\n",
    "# Especifica la carpeta que deseas procesar\n",
    "directory_path = \"logs/smartRPA/p-50_100_experiment/\"\n",
    "\n",
    "process_directory(directory_path)"
   ]
  },
  {
   "cell_type": "code",
   "execution_count": null,
   "metadata": {},
   "outputs": [],
   "source": []
  }
 ],
 "metadata": {
  "kernelspec": {
   "display_name": "timeSeriesData",
   "language": "python",
   "name": "python3"
  },
  "language_info": {
   "codemirror_mode": {
    "name": "ipython",
    "version": 3
   },
   "file_extension": ".py",
   "mimetype": "text/x-python",
   "name": "python",
   "nbconvert_exporter": "python",
   "pygments_lexer": "ipython3",
   "version": "3.10.13"
  }
 },
 "nbformat": 4,
 "nbformat_minor": 2
}
