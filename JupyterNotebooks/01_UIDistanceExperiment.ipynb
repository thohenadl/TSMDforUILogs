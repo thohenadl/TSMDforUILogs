{
 "cells": [
  {
   "cell_type": "markdown",
   "id": "467a65d5",
   "metadata": {},
   "source": [
    "#### Setting"
   ]
  },
  {
   "cell_type": "code",
   "execution_count": 6,
   "id": "388ee885",
   "metadata": {},
   "outputs": [],
   "source": [
    "import sys\n",
    "sys.path.append('../') # To import from parent dir\n",
    "\n",
    "import pandas as pd\n",
    "import numpy as np\n",
    "\n",
    "import os\n",
    "\n",
    "import time # just for dev purpose\n",
    "from IPython.display import display # Just for displaying DF nicely\n",
    "\n",
    "from itertools import product\n",
    "\n",
    "import matplotlib.pyplot as plt\n",
    "import matplotlib.dates as dates\n",
    "from matplotlib.patches import Rectangle\n",
    "import datetime as dt\n",
    "\n",
    "from util.util import *\n",
    "import util.const\n",
    "import util.visUtil"
   ]
  },
  {
   "cell_type": "markdown",
   "id": "afc6ba09",
   "metadata": {},
   "source": [
    "# UI Hierarchy Based Matrix Profil Routine Discovery\n",
    "\n",
    "## Preliminaries\n",
    "\n",
    "Given a UI log the user has to select all context parameters in the UI log and align them to the reference model of Abb and Rehse.\n",
    "\n",
    "### Alignment Description\n",
    "\n",
    "In this Jupyter Notebook you achieve this by adding the context parameters to each row in the subsequent notebook-cell.<br>\n",
    "Each cell is one layer of the reference model. Add the context parameters describing the level into the lists.<br>\n",
    "Important: For nested UI Groups add a new group below the UI group list. Two UI groups on the same level can be added into the same list. E.g. a PPT slide and a Excel worksheet can be in the same level.<br><br>\n",
    " \n",
    "Example based on SmartRPA Logs:<br>\n",
    "systems = [\"category\"]<br>\n",
    "applications = [\"application\"]<br>\n",
    "uiGroup1 = [\"workbook\",\"browser_url\",\"title\"]<br>\n",
    "uiGroup2 = [\"current_worksheet\"] \n",
    "uiGroup3 = [\"cell_range\",\"cell_range_number\"] <br>\n",
    "uiElement = [\"mouse_coord\",\"tag_category\",\"xpath\",\"event_src_path\",\"event_dest_path\",\"tag_name\",\"tag_title\",\"tag_href\",\"tag_innerText\",\"tab_pinned\",\"tab_audible\",\"tab_muted\",\"window_ingognito\",\"tab_moved_from_index\",\"tab_moved_to_index\",\"id\"]<br>\n",
    "actions = [\"concept:name\",\"eventQual\"]<br>\n",
    "\n",
    "### Alignment Hints\n",
    "* Add as many UI group levels as necessary\n",
    "* With each level the number of attributes outlining the level can increase, i.e., a system is described only by one parameter, e.g., system name, but an application can be at two parameters already, e.g., name and type (Edge, Browser), and an UI element can be defined by multiple parameters.\n",
    "* If the UI log does not specify a level, e.g., the system or application, level the level empty in the method below.\n",
    "* If you specify multiple UI group levels, they must be filled top-down. It is penalized more, if for example, the browser window is in UI group level 2 and no UI group is in level 1, which is a gap. If this is the case move the UI group up in the levels."
   ]
  },
  {
   "cell_type": "code",
   "execution_count": 28,
   "id": "e3d050b3",
   "metadata": {},
   "outputs": [],
   "source": [
    "# ---- Initialize all context parameters that will be used ----\n",
    "# Note: Read the alignment hints above\n",
    "systems = [\"category\"]\n",
    "applications = [\"application\"]\n",
    "uiGroup1 = [\"workbook\",\"browser_url\",\"title\"]\n",
    "uiGroup2 = [\"current_worksheet\"] \n",
    "uiGroup3 = [\"cell_range\",\"cell_range_number\"]\n",
    "uiElement = [\"mouse_coord\",\"tag_category\",\"xpath\",\"event_src_path\",\"event_dest_path\",\"tag_name\",\"tag_title\",\"tag_href\",\n",
    "             \"tag_innerText\",\"tab_pinned\",\"tab_audible\",\"tab_muted\",\"window_ingognito\",\"tab_moved_from_index\",\"tab_moved_to_index\",\"id\"]\n",
    "actions = [\"concept:name\",\"eventQual\"]\n",
    "\n",
    "# ---- Add all hierarchy levels into a list ----\n",
    "hierarchy_list = [systems, applications, uiGroup1, uiGroup2, uiGroup3, uiElement, actions]\n",
    "\n",
    "# ---- Define the path in which all files are stored ----\n",
    "folder_path = \"../logs/smartRPA/validation/\"\n",
    "folder_path = \"../logs/smartRPA/percentageComparison/\"\n",
    "\n",
    "UILogValidation_filename = \"validation_data.csv\"\n",
    "variableLenValidation_filename = \"var_len_validation_data.csv\"\n",
    "percentagData_filename = \"validationDataPercentage.csv\""
   ]
  },
  {
   "cell_type": "markdown",
   "id": "4403ab58",
   "metadata": {},
   "source": [
    "## Implementation - Just Execute - Do not change"
   ]
  },
  {
   "cell_type": "code",
   "execution_count": null,
   "id": "4e8160f5",
   "metadata": {},
   "outputs": [],
   "source": [
    "# ---- Do not change from here ----\n",
    "\n",
    "# ---- Initialize all variables that will be used ----\n",
    "dtypes = util.const.dtype\n",
    "\n",
    "varLenUILogs = []\n",
    "UILogs = []\n",
    "percentageLogs = []\n",
    "\n",
    "experimentColumns = [\"experimentID\",\"EncodingMethod\",\"uiLogName\",\"variationPercentage\",\"percentageMotifsOverLog\",\"motifLength\",\"windowSize\",\n",
    "                     \"windowSizeMatch\",\"motifsToBeDiscovered\",\"motifsDiscovered\",\"numberOfOccurrancesToBeDiscovered\",\n",
    "                     \"OccurancesDiscovered/TP\",\"topMotifsT\",\"DiscoveryPercentage\",\"alignmentAccuracy\",\"Precision\",\"Recall\",\"F1-Score\",\"ExecutionTime\",\"executionTimeEncoding\",\"executionTimeDiscovery\",\n",
    "                     \"motifSpots\",\"discoveredSpots\",\"DiscoveryLoops\"]\n",
    "\n",
    "# ---- Getting the relevant files from the folder and sorting them into different lists for processing ----\n",
    "\n",
    "for file in os.listdir(folder_path):\n",
    "    if file.startswith(\"LenLog\"):\n",
    "        percentageLogs.append(file)\n",
    "\n",
    "# Check if data created for percentage based comparison is available\n",
    "try:\n",
    "    percentageValData = pd.read_csv(folder_path + percentagData_filename)\n",
    "    percentageValAvailable = True\n",
    "except FileNotFoundError as e:\n",
    "    print(f\"Could not read {percentagData_filename} from the folder.\\n{e}\")\n",
    "    percentageValAvailable = False"
   ]
  },
  {
   "cell_type": "code",
   "execution_count": 29,
   "id": "82c6532a",
   "metadata": {},
   "outputs": [
    {
     "name": "stderr",
     "output_type": "stream",
     "text": [
      "C:\\Users\\tomho\\AppData\\Local\\Temp\\ipykernel_3012\\3441551950.py:4: DtypeWarning: Columns (23,26) have mixed types. Specify dtype option on import or set low_memory=False.\n",
      "  file = pd.read_csv(folder_path + log)\n",
      "C:\\Users\\tomho\\AppData\\Local\\Temp\\ipykernel_3012\\3441551950.py:4: DtypeWarning: Columns (23,26) have mixed types. Specify dtype option on import or set low_memory=False.\n",
      "  file = pd.read_csv(folder_path + log)\n"
     ]
    },
    {
     "ename": "KeyboardInterrupt",
     "evalue": "",
     "output_type": "error",
     "traceback": [
      "\u001b[31m---------------------------------------------------------------------------\u001b[39m",
      "\u001b[31mKeyboardInterrupt\u001b[39m                         Traceback (most recent call last)",
      "\u001b[36mCell\u001b[39m\u001b[36m \u001b[39m\u001b[32mIn[29]\u001b[39m\u001b[32m, line 4\u001b[39m\n\u001b[32m      1\u001b[39m experimentResults = pd.DataFrame(columns=experimentColumns)\n\u001b[32m      3\u001b[39m \u001b[38;5;28;01mfor\u001b[39;00m i, log \u001b[38;5;129;01min\u001b[39;00m \u001b[38;5;28menumerate\u001b[39m(percentageLogs):\n\u001b[32m----> \u001b[39m\u001b[32m4\u001b[39m     file = \u001b[43mpd\u001b[49m\u001b[43m.\u001b[49m\u001b[43mread_csv\u001b[49m\u001b[43m(\u001b[49m\u001b[43mfolder_path\u001b[49m\u001b[43m \u001b[49m\u001b[43m+\u001b[49m\u001b[43m \u001b[49m\u001b[43mlog\u001b[49m\u001b[43m)\u001b[49m\n\u001b[32m      5\u001b[39m     comparisonVariables = percentageValData.loc[percentageValData[\u001b[33m'\u001b[39m\u001b[33muiLogName\u001b[39m\u001b[33m'\u001b[39m] == log]\n\u001b[32m      6\u001b[39m     \u001b[38;5;66;03m# Where the motifs were initially added\u001b[39;00m\n",
      "\u001b[36mFile \u001b[39m\u001b[32mc:\\Users\\tomho\\anaconda3\\envs\\tsrdFall2025\\Lib\\site-packages\\pandas\\io\\parsers\\readers.py:1026\u001b[39m, in \u001b[36mread_csv\u001b[39m\u001b[34m(filepath_or_buffer, sep, delimiter, header, names, index_col, usecols, dtype, engine, converters, true_values, false_values, skipinitialspace, skiprows, skipfooter, nrows, na_values, keep_default_na, na_filter, verbose, skip_blank_lines, parse_dates, infer_datetime_format, keep_date_col, date_parser, date_format, dayfirst, cache_dates, iterator, chunksize, compression, thousands, decimal, lineterminator, quotechar, quoting, doublequote, escapechar, comment, encoding, encoding_errors, dialect, on_bad_lines, delim_whitespace, low_memory, memory_map, float_precision, storage_options, dtype_backend)\u001b[39m\n\u001b[32m   1013\u001b[39m kwds_defaults = _refine_defaults_read(\n\u001b[32m   1014\u001b[39m     dialect,\n\u001b[32m   1015\u001b[39m     delimiter,\n\u001b[32m   (...)\u001b[39m\u001b[32m   1022\u001b[39m     dtype_backend=dtype_backend,\n\u001b[32m   1023\u001b[39m )\n\u001b[32m   1024\u001b[39m kwds.update(kwds_defaults)\n\u001b[32m-> \u001b[39m\u001b[32m1026\u001b[39m \u001b[38;5;28;01mreturn\u001b[39;00m \u001b[43m_read\u001b[49m\u001b[43m(\u001b[49m\u001b[43mfilepath_or_buffer\u001b[49m\u001b[43m,\u001b[49m\u001b[43m \u001b[49m\u001b[43mkwds\u001b[49m\u001b[43m)\u001b[49m\n",
      "\u001b[36mFile \u001b[39m\u001b[32mc:\\Users\\tomho\\anaconda3\\envs\\tsrdFall2025\\Lib\\site-packages\\pandas\\io\\parsers\\readers.py:626\u001b[39m, in \u001b[36m_read\u001b[39m\u001b[34m(filepath_or_buffer, kwds)\u001b[39m\n\u001b[32m    623\u001b[39m     \u001b[38;5;28;01mreturn\u001b[39;00m parser\n\u001b[32m    625\u001b[39m \u001b[38;5;28;01mwith\u001b[39;00m parser:\n\u001b[32m--> \u001b[39m\u001b[32m626\u001b[39m     \u001b[38;5;28;01mreturn\u001b[39;00m \u001b[43mparser\u001b[49m\u001b[43m.\u001b[49m\u001b[43mread\u001b[49m\u001b[43m(\u001b[49m\u001b[43mnrows\u001b[49m\u001b[43m)\u001b[49m\n",
      "\u001b[36mFile \u001b[39m\u001b[32mc:\\Users\\tomho\\anaconda3\\envs\\tsrdFall2025\\Lib\\site-packages\\pandas\\io\\parsers\\readers.py:1923\u001b[39m, in \u001b[36mTextFileReader.read\u001b[39m\u001b[34m(self, nrows)\u001b[39m\n\u001b[32m   1916\u001b[39m nrows = validate_integer(\u001b[33m\"\u001b[39m\u001b[33mnrows\u001b[39m\u001b[33m\"\u001b[39m, nrows)\n\u001b[32m   1917\u001b[39m \u001b[38;5;28;01mtry\u001b[39;00m:\n\u001b[32m   1918\u001b[39m     \u001b[38;5;66;03m# error: \"ParserBase\" has no attribute \"read\"\u001b[39;00m\n\u001b[32m   1919\u001b[39m     (\n\u001b[32m   1920\u001b[39m         index,\n\u001b[32m   1921\u001b[39m         columns,\n\u001b[32m   1922\u001b[39m         col_dict,\n\u001b[32m-> \u001b[39m\u001b[32m1923\u001b[39m     ) = \u001b[38;5;28;43mself\u001b[39;49m\u001b[43m.\u001b[49m\u001b[43m_engine\u001b[49m\u001b[43m.\u001b[49m\u001b[43mread\u001b[49m\u001b[43m(\u001b[49m\u001b[43m  \u001b[49m\u001b[38;5;66;43;03m# type: ignore[attr-defined]\u001b[39;49;00m\n\u001b[32m   1924\u001b[39m \u001b[43m        \u001b[49m\u001b[43mnrows\u001b[49m\n\u001b[32m   1925\u001b[39m \u001b[43m    \u001b[49m\u001b[43m)\u001b[49m\n\u001b[32m   1926\u001b[39m \u001b[38;5;28;01mexcept\u001b[39;00m \u001b[38;5;167;01mException\u001b[39;00m:\n\u001b[32m   1927\u001b[39m     \u001b[38;5;28mself\u001b[39m.close()\n",
      "\u001b[36mFile \u001b[39m\u001b[32mc:\\Users\\tomho\\anaconda3\\envs\\tsrdFall2025\\Lib\\site-packages\\pandas\\io\\parsers\\c_parser_wrapper.py:234\u001b[39m, in \u001b[36mCParserWrapper.read\u001b[39m\u001b[34m(self, nrows)\u001b[39m\n\u001b[32m    232\u001b[39m \u001b[38;5;28;01mtry\u001b[39;00m:\n\u001b[32m    233\u001b[39m     \u001b[38;5;28;01mif\u001b[39;00m \u001b[38;5;28mself\u001b[39m.low_memory:\n\u001b[32m--> \u001b[39m\u001b[32m234\u001b[39m         chunks = \u001b[38;5;28;43mself\u001b[39;49m\u001b[43m.\u001b[49m\u001b[43m_reader\u001b[49m\u001b[43m.\u001b[49m\u001b[43mread_low_memory\u001b[49m\u001b[43m(\u001b[49m\u001b[43mnrows\u001b[49m\u001b[43m)\u001b[49m\n\u001b[32m    235\u001b[39m         \u001b[38;5;66;03m# destructive to chunks\u001b[39;00m\n\u001b[32m    236\u001b[39m         data = _concatenate_chunks(chunks)\n",
      "\u001b[36mFile \u001b[39m\u001b[32mpandas/_libs/parsers.pyx:838\u001b[39m, in \u001b[36mpandas._libs.parsers.TextReader.read_low_memory\u001b[39m\u001b[34m()\u001b[39m\n",
      "\u001b[36mFile \u001b[39m\u001b[32mpandas/_libs/parsers.pyx:905\u001b[39m, in \u001b[36mpandas._libs.parsers.TextReader._read_rows\u001b[39m\u001b[34m()\u001b[39m\n",
      "\u001b[36mFile \u001b[39m\u001b[32mpandas/_libs/parsers.pyx:874\u001b[39m, in \u001b[36mpandas._libs.parsers.TextReader._tokenize_rows\u001b[39m\u001b[34m()\u001b[39m\n",
      "\u001b[36mFile \u001b[39m\u001b[32mpandas/_libs/parsers.pyx:891\u001b[39m, in \u001b[36mpandas._libs.parsers.TextReader._check_tokenize_status\u001b[39m\u001b[34m()\u001b[39m\n",
      "\u001b[36mFile \u001b[39m\u001b[32mpandas/_libs/parsers.pyx:2053\u001b[39m, in \u001b[36mpandas._libs.parsers.raise_parser_error\u001b[39m\u001b[34m()\u001b[39m\n",
      "\u001b[36mFile \u001b[39m\u001b[32m<frozen codecs>:331\u001b[39m, in \u001b[36mgetstate\u001b[39m\u001b[34m(self)\u001b[39m\n",
      "\u001b[31mKeyboardInterrupt\u001b[39m: "
     ]
    }
   ],
   "source": [
    "experimentResults = pd.DataFrame(columns=experimentColumns)\n",
    "\n",
    "for i, log in enumerate(percentageLogs):\n",
    "    file = pd.read_csv(folder_path + log)\n",
    "    comparisonVariables = percentageValData.loc[percentageValData['uiLogName'] == log]\n",
    "    # Where the motifs were initially added\n",
    "    insertSpots = comparisonVariables[\"motifSpots\"]\n",
    "    # Where are the motifs actually in the dataframe\n",
    "    inserted_motif_spots = extract_numbers(insertSpots[insertSpots.index[0]])\n",
    "    \n",
    "    # How many motifs were added\n",
    "    numMotifs = comparisonVariables[\"motifsToBeDiscovered\"]\n",
    "    selected_columns = set(col for col_list in hierarchy_list for col in col_list)\n",
    "    \n",
    "    # Keep only the columns that exist in df\n",
    "    selected_columns = [col for col in selected_columns if col in file.columns]"
   ]
  },
  {
   "cell_type": "code",
   "execution_count": 30,
   "id": "58837014",
   "metadata": {},
   "outputs": [
    {
     "data": {
      "text/plain": [
       "['tab_moved_from_index',\n",
       " 'concept:name',\n",
       " 'tag_innerText',\n",
       " 'tab_muted',\n",
       " 'eventQual',\n",
       " 'tag_title',\n",
       " 'tab_moved_to_index',\n",
       " 'window_ingognito',\n",
       " 'workbook',\n",
       " 'id',\n",
       " 'title',\n",
       " 'tab_audible',\n",
       " 'tab_pinned',\n",
       " 'browser_url',\n",
       " 'cell_range_number',\n",
       " 'xpath',\n",
       " 'application',\n",
       " 'current_worksheet',\n",
       " 'category',\n",
       " 'cell_range',\n",
       " 'event_dest_path',\n",
       " 'tag_category',\n",
       " 'tag_href',\n",
       " 'tag_name',\n",
       " 'event_src_path',\n",
       " 'mouse_coord']"
      ]
     },
     "execution_count": 30,
     "metadata": {},
     "output_type": "execute_result"
    }
   ],
   "source": [
    "selected_columns"
   ]
  },
  {
   "cell_type": "code",
   "execution_count": null,
   "id": "b5bcabba",
   "metadata": {},
   "outputs": [],
   "source": []
  }
 ],
 "metadata": {
  "kernelspec": {
   "display_name": "tsrdFall2025",
   "language": "python",
   "name": "python3"
  },
  "language_info": {
   "codemirror_mode": {
    "name": "ipython",
    "version": 3
   },
   "file_extension": ".py",
   "mimetype": "text/x-python",
   "name": "python",
   "nbconvert_exporter": "python",
   "pygments_lexer": "ipython3",
   "version": "3.12.11"
  }
 },
 "nbformat": 4,
 "nbformat_minor": 5
}
